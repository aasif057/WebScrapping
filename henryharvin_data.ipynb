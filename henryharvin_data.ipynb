{
  "nbformat": 4,
  "nbformat_minor": 0,
  "metadata": {
    "colab": {
      "name": "henryharvin_data",
      "provenance": [],
      "authorship_tag": "ABX9TyPGQGpHH74BOPufy6Mtlw4x",
      "include_colab_link": true
    },
    "kernelspec": {
      "name": "python3",
      "display_name": "Python 3"
    },
    "language_info": {
      "name": "python"
    }
  },
  "cells": [
    {
      "cell_type": "markdown",
      "metadata": {
        "id": "view-in-github",
        "colab_type": "text"
      },
      "source": [
        "<a href=\"https://colab.research.google.com/github/aasif057/WebScrapping/blob/main/henryharvin_data.ipynb\" target=\"_parent\"><img src=\"https://colab.research.google.com/assets/colab-badge.svg\" alt=\"Open In Colab\"/></a>"
      ]
    },
    {
      "cell_type": "code",
      "execution_count": 54,
      "metadata": {
        "id": "Yl0eAXAq00mg"
      },
      "outputs": [],
      "source": [
        "import requests\n",
        "from bs4 import BeautifulSoup as Bs\n",
        "import pandas as pd\n",
        "import numpy as np"
      ]
    },
    {
      "cell_type": "code",
      "source": [
        "r = requests.get(\"https://www.henryharvin.com/our-courses\")\n",
        "c = r.content\n",
        "soup = Bs(c,\"html.parser\")\n",
        "l = []\n",
        "m=[]\n",
        "n = []\n",
        "links = []\n",
        "\n",
        "for link in soup.find_all('ul', {'class':'wp-megamenu-sub-menu'}):\n",
        "    for a in soup.find_all('a', {'class':'a-wp'}):\n",
        "        l.append(a.get('href'))\n",
        "for ele in l:\n",
        "  ele1 = ele.replace('https://www.henryharvin.com/','')\n",
        "  m.append(ele1)\n",
        "for ele in m:\n",
        "  ele1 = ele.replace('https://us.henryharvin.com/','')\n",
        "  n.append(ele1)\n",
        "n = list(dict.fromkeys(n))\n",
        "n"
      ],
      "metadata": {
        "id": "284Hgzzg03D9",
        "colab": {
          "base_uri": "https://localhost:8080/"
        },
        "outputId": "c498265a-8b2e-471d-b9f3-0d3961ff7495"
      },
      "execution_count": 55,
      "outputs": [
        {
          "output_type": "execute_result",
          "data": {
            "text/plain": [
              "['post-graduate-program-in-data-analytics',\n",
              " 'post-graduate-program-data-science',\n",
              " 'diploma-data-science',\n",
              " 'professional-certificate-in-analytics',\n",
              " 'data-science-python-course',\n",
              " 'data-science-r-course',\n",
              " 'python-for-data-science-course',\n",
              " 'r-programming-data-science-course',\n",
              " 'data-visualization-course',\n",
              " 'business-intelligence-course',\n",
              " 'tableau-training',\n",
              " 'hr-analytics-course',\n",
              " 'big-data-analytics-course',\n",
              " 'business-analysis-course',\n",
              " 'iot-course',\n",
              " 'business-analytics-course-with-python',\n",
              " 'business-analytics-course-with-r',\n",
              " 'business-analyst-sas-course',\n",
              " 'diploma-in-analytics',\n",
              " 'master-marketing-analytics-course',\n",
              " 'marketing-analytics-course-with-python',\n",
              " 'marketing-analytics-course-with-r',\n",
              " 'professional-behavioral-analyst-course',\n",
              " 'financial-analytics-course-with-python',\n",
              " 'financial-analytics-course-with-r',\n",
              " 'financial-analyst-sas-course',\n",
              " 'data-analytics-using-r-course',\n",
              " 'data-science-course',\n",
              " 'statistics-for-data-science-course',\n",
              " 'cfa-course',\n",
              " 'executive-program-in-fintech-banking-and-applied-risk-management',\n",
              " 'fintech-innovation-and-transformation-in-financial-services',\n",
              " 'ifrs-course',\n",
              " 'stock-market-course',\n",
              " 'acca-course',\n",
              " 'financial-modeling-course',\n",
              " 'frm-course',\n",
              " 'cpa-course',\n",
              " 'financial-statement-analysis-course',\n",
              " 'post-graduate-program-in-hr',\n",
              " 'chrp-course',\n",
              " 'hr-payroll-training',\n",
              " 'master-hr-payroll-course',\n",
              " 'us-payroll-training',\n",
              " 'hr-generalist-course',\n",
              " 'uk-payroll-training',\n",
              " 'hr-social-compliance-training',\n",
              " 'hr-psychometric-test-course',\n",
              " 'hr-information-system-course',\n",
              " 'hr-uk-payroll-advanced-course',\n",
              " 'hr-business-partner-2-0-course',\n",
              " 'oracle-hcm-course',\n",
              " 'enrolled-agent-course',\n",
              " 'diploma-in-hr',\n",
              " 'post-graduate-program-in-blockchain',\n",
              " 'complete-blockchain-professional-course',\n",
              " 'blockchain-certification-training',\n",
              " 'bitcoin-course',\n",
              " 'blockchain-developer-course',\n",
              " 'blockchain-fundamentals-course',\n",
              " 'ibm-ai-engineering-professional-certificate-course',\n",
              " 'post-graduate-program-project-management',\n",
              " 'post-graduate-program-in-product-management',\n",
              " 'diploma-product-management',\n",
              " 'pmp-certification-training',\n",
              " 'pmp-plus-specialist-course',\n",
              " 'capm-certification-training',\n",
              " 'design-thinking-course',\n",
              " 'agile-project-management-course',\n",
              " 'product-management-course',\n",
              " 'pmi-pba-certification-course',\n",
              " 'pmi-acp-certification-course',\n",
              " 'pmi-rmp-training',\n",
              " 'prince2-training-course',\n",
              " 'strategy-consulting-course',\n",
              " 'pgmp-course',\n",
              " 'mba-course',\n",
              " 'post-graduate-program-accounting-taxation',\n",
              " 'post-graduate-gst-course',\n",
              " 'post-graduate-program-income-tax',\n",
              " 'diploma-accounting-taxation',\n",
              " 'accounting-and-taxation-course',\n",
              " 'gst-plus-course',\n",
              " 'gst-course',\n",
              " 'advanced-tally-erp9-training',\n",
              " 'tally-prime-course',\n",
              " 'income-tax-course',\n",
              " 'advanced-excel-course',\n",
              " 'post-graduate-program-in-instructional-design',\n",
              " 'post-graduate-program-in-medical-writing',\n",
              " 'post-graduate-program-in-technical-writing',\n",
              " 'content-writing-courses',\n",
              " 'content-writing-course',\n",
              " 'diploma-content-writing',\n",
              " 'creative-writing-course',\n",
              " 'copywriting-course',\n",
              " 'technical-writing-course',\n",
              " 'medical-writing-course',\n",
              " 'oxygen-xml-training',\n",
              " 'pharmacovigilance-course',\n",
              " 'sas-clinical-programming-course',\n",
              " 'adobe-captivate-course',\n",
              " 'instructional-design-course',\n",
              " 'research-writing-course',\n",
              " 'articulate-storyline-360-course',\n",
              " 'negotiation-course',\n",
              " 'madcap-flare-training',\n",
              " 'diploma-in-technical-writing',\n",
              " 'diploma-in-medical-writing',\n",
              " 'creative-writing-course-master-training-program',\n",
              " 'rera-workshop',\n",
              " 'aws-solutions-architect-course',\n",
              " 'aws-developer-associate',\n",
              " 'google-professional-cloud-architect-training',\n",
              " 'aws-sysops-associate',\n",
              " 'cloud-security-professional-course',\n",
              " 'aws-technical-essentials',\n",
              " 'itil-foundation-course',\n",
              " 'cobit-5-training',\n",
              " 'system-administration-it-infrastructure-services',\n",
              " 'technical-support-fundamentals-course',\n",
              " 'operating-system-power-user',\n",
              " 'it-security-course',\n",
              " 'bits-bytes-computer-networking-course',\n",
              " 'bcom-course',\n",
              " 'mcom-course',\n",
              " 'bba-course',\n",
              " 'ma-course',\n",
              " 'mca-course',\n",
              " 'embedded-system-course',\n",
              " '8051-avr-course',\n",
              " 'avr-arduino-course',\n",
              " 'arduino-arm-raspberry-pi-course',\n",
              " '8051-arduino-course',\n",
              " 'pcb-design-course',\n",
              " 'post-graduate-lean-six-sigma',\n",
              " 'diploma-digital-marketing',\n",
              " 'lean-six-sigma-master-black-belt-certification',\n",
              " 'diploma-lean-six-sigma',\n",
              " 'lean-six-sigma-black-belt-certification',\n",
              " 'lean-six-sigma-yellow-belt-certification',\n",
              " 'lean-six-sigma-green-belt-certification',\n",
              " 'six-sigma-in-it',\n",
              " 'iatf-16949-lead-auditor-course',\n",
              " 'six-sigma-champion-certified',\n",
              " 'iso-9001-lead-auditor-course',\n",
              " 'iatf-16949-internal-auditor-course',\n",
              " 'spc-training',\n",
              " 'lean-practitioner-certification',\n",
              " '8d-training',\n",
              " '7-qc-tools-training',\n",
              " 'kaizen-training',\n",
              " '5s-certification',\n",
              " 'smed-training-course',\n",
              " 'value-stream-mapping-certification',\n",
              " 'advanced-statistics-for-six-sigma-course',\n",
              " 'sap-fico-training',\n",
              " 'sap-mm-hana-training',\n",
              " 'sap-healthcare-training',\n",
              " 'sap-cpq-training',\n",
              " 'sap-pp-training',\n",
              " 'sap-sd-training',\n",
              " 'salesforce-course',\n",
              " 'tefl-certification-course-online/',\n",
              " 'young-learners-teacher-training',\n",
              " 'business-english-teacher-training',\n",
              " 'train-the-trainer-course',\n",
              " 'professional-certificate-in-teaching-and-learning-course',\n",
              " 'employee-boostability-course',\n",
              " 'award-in-teaching-course',\n",
              " 'learning-theories-and-teaching-strategies',\n",
              " 'cyber-security-course',\n",
              " 'ethical-hacking-course',\n",
              " 'cyber-forensics-course',\n",
              " 'cyber-security-fundamentals-course',\n",
              " 'compTIA-security+-certification-training',\n",
              " 'it-security-cyber-law-course',\n",
              " 'entry-level-cybersecurity-course',\n",
              " 'cisco-certified-network-professional',\n",
              " 'cisco-certified-network-associate',\n",
              " 'global-information-assurance-certification-course',\n",
              " 'information-security-manager-course',\n",
              " 'certified-scrum-master-training',\n",
              " 'cspo-certification-training',\n",
              " 'leading-safe-training',\n",
              " 'certified-scrum-developer-training',\n",
              " 'devops-certification-course',\n",
              " 'safe-product-owner-product-manager-training',\n",
              " 'oracle-apps-financials-training',\n",
              " 'oracle-apps-technical-training',\n",
              " 'oracle-fusion-financials-training',\n",
              " 'oracle-apps-dba-training',\n",
              " 'oracle-apps-scm-training',\n",
              " 'teen-mba-course',\n",
              " 'programming-for-non-programmers-course',\n",
              " 'mern-stack-developer-course',\n",
              " 'java-full-stack-developer-course',\n",
              " 'online-c-plus-plus-course',\n",
              " 'diploma-python-development',\n",
              " 'online-java-course',\n",
              " 'java-programming-for-beginners',\n",
              " 'sql-course',\n",
              " 'react-native-course',\n",
              " 'python-development-course',\n",
              " 'ui-ux-designer-course',\n",
              " 'software-testing-course',\n",
              " 'android-development-with-kotlin-course',\n",
              " 'python-full-stack-developer-course',\n",
              " 'aspnet-core-course',\n",
              " 'web-development-for-beginners',\n",
              " 'python-development-foundation-course',\n",
              " 'php-course-for-beginners',\n",
              " 'c-plus-plus-foundation-course',\n",
              " 'html5-&-css3-course',\n",
              " 'microsoft-azure-fundamentals-training',\n",
              " 'microsoft-azure-administrator-training-course',\n",
              " 'microsoft-azure-architect-design',\n",
              " 'microsoft-azure-architect-technologies',\n",
              " 'sharepoint-training',\n",
              " 'french-language-summer-school',\n",
              " 'emergency-medical-technician-course',\n",
              " 'advanced-medical-laboratory-technician-course',\n",
              " 'medical-laboratory-technician-course',\n",
              " 'operation-theatre-technician',\n",
              " 'x-ray-technician-course',\n",
              " 'cardiac-care-technician-course',\n",
              " 'dialysis-technician-course',\n",
              " 'dental-technician-course',\n",
              " 'neet-preparation-course',\n",
              " 'emt-ott-program',\n",
              " 'ott-mlt-program',\n",
              " 'hospital-administration-course',\n",
              " 'cpr-and-first-aid-course',\n",
              " 'medical-coding-course',\n",
              " 'post-graduate-program-in-digital-marketing',\n",
              " 'digital-marketing-course',\n",
              " 'advanced-ppc-course',\n",
              " 'advanced-seo-course',\n",
              " 'social-media-marketing-course',\n",
              " 'google-analytics-course',\n",
              " 'email-marketing-course',\n",
              " 'medical-billing-course',\n",
              " 'inpatient-coding-course',\n",
              " 'outpatient-coding-course',\n",
              " 'professional-compliance-officer-course',\n",
              " 'documentation-expert-outpatient-course',\n",
              " 'documentation-expert-inpatient-course',\n",
              " 'physician-practice-manager-course',\n",
              " 'medical-scribing-course',\n",
              " 'professional-medical-auditor-course',\n",
              " 'certified-coding-specialist',\n",
              " 'tefl-course',\n",
              " 'articulate-storyline-360-advanced-course',\n",
              " 'earn-online-course',\n",
              " 'sap-mm-course',\n",
              " 'sap-hr-course',\n",
              " 'sap-hana-course']"
            ]
          },
          "metadata": {},
          "execution_count": 55
        }
      ]
    },
    {
      "cell_type": "code",
      "source": [
        ""
      ],
      "metadata": {
        "id": "m39iP2mVXMh5"
      },
      "execution_count": 55,
      "outputs": []
    },
    {
      "cell_type": "code",
      "source": [
        "base_url = ('https://www.henryharvin.com/')\n",
        "for i in range(len(n)):\n",
        "  links.append(base_url+str(n[i]))"
      ],
      "metadata": {
        "id": "G4IrpFObSbmE"
      },
      "execution_count": 56,
      "outputs": []
    },
    {
      "cell_type": "code",
      "source": [
        "\\"
      ],
      "metadata": {
        "id": "GrUYl2sRT9qS"
      },
      "execution_count": 57,
      "outputs": []
    },
    {
      "cell_type": "code",
      "source": [
        "name = []\n",
        "links_n = []\n",
        "\n",
        "for link in links:\n",
        "    r = requests.get(link)\n",
        "    c = r.content\n",
        "    soup = Bs(c,'html.parser')\n",
        "    for i in soup.find_all('h1',{'class':'picreel_name'}):\n",
        "        name.append(i.get_text('h1.picreel_name'))\n",
        "        links_n.append(link)"
      ],
      "metadata": {
        "id": "4FYv0GOv9huY"
      },
      "execution_count": 58,
      "outputs": []
    },
    {
      "cell_type": "code",
      "source": [
        "accrediation = []\n",
        "module =[]\n",
        "skills_covered=[]\n",
        "tools_featured = []\n",
        "k_features = []\n",
        "about = []\n",
        "for link in links_n:\n",
        "    r = requests.get(link)\n",
        "    c = r.content\n",
        "    soup = Bs(c,'html.parser')\n",
        "\n",
        "    for i in soup.find_all('div', {'class':'di-img'}):\n",
        "      img = []\n",
        "      for j in soup.find_all('img', {'class':'affil affilation-new'}):\n",
        "        a = (j.get('src'))\n",
        "        a = a.replace(' ', '%20')\n",
        "        img.append(a)\n",
        "    accrediation.append(img)\n",
        "    for link in soup.find_all('div', {'class':'course-curriculum course-section'}):\n",
        "        f = []\n",
        "        for i in range(len(soup.find_all('div',{'class':'accordion-item ne_dee'}))):\n",
        "            f.append(link.select('a')[i].text.strip())\n",
        "    module.append(f)\n",
        "    for i in soup.find_all('div', {'class':'row'}):\n",
        "      s = []\n",
        "      for j in soup.find_all('p',{'class':'skill_cover'}):\n",
        "        s.append(j.get_text())\n",
        "    skills_covered.append(s)\n",
        "    for i in soup.find_all('section', {'id':'tools-covered'}):\n",
        "        img = []\n",
        "        for j in i.find_all('img', {'class':'img-responsive'}):\n",
        "            b = (j.get('src'))\n",
        "            b = b.replace(' ', '%20')\n",
        "            img.append(b)\n",
        "    tools_featured.append(img)\n",
        "    f = []\n",
        "    for i in soup.find_all('div', {'class':'join-card'}):\n",
        "        f.append((i.select('h5')[0].text.strip()))\n",
        "    k_features.append(f)\n",
        "    x = []\n",
        "    for i in soup.find_all('div', {'class':'content-div'}):\n",
        "        x.append(i.get_text())\n",
        "    about.append(x)"
      ],
      "metadata": {
        "id": "7CYlxdjM9ncB"
      },
      "execution_count": 60,
      "outputs": []
    },
    {
      "cell_type": "code",
      "source": [
        "dict = {'name':name,'course link':links_n,'course description':about,'tools featured': tools_featured,'Key Features':k_features,'Syllabus':module,'Accrediations & Affliations':accrediation}\n",
        "df = pd.DataFrame(dict)"
      ],
      "metadata": {
        "id": "mS1W3DBp9q81"
      },
      "execution_count": 61,
      "outputs": []
    },
    {
      "cell_type": "code",
      "source": [
        "from google.colab import files\n",
        "df.to_excel('output123.xlsx', encoding = 'utf-8-sig')\n",
        "files.download('output123.xlsx')"
      ],
      "metadata": {
        "colab": {
          "base_uri": "https://localhost:8080/",
          "height": 17
        },
        "id": "fbZb5zxVHj3l",
        "outputId": "7d23ef62-75aa-4177-f413-12c57f8e43e7"
      },
      "execution_count": 62,
      "outputs": [
        {
          "output_type": "display_data",
          "data": {
            "text/plain": [
              "<IPython.core.display.Javascript object>"
            ],
            "application/javascript": [
              "\n",
              "    async function download(id, filename, size) {\n",
              "      if (!google.colab.kernel.accessAllowed) {\n",
              "        return;\n",
              "      }\n",
              "      const div = document.createElement('div');\n",
              "      const label = document.createElement('label');\n",
              "      label.textContent = `Downloading \"${filename}\": `;\n",
              "      div.appendChild(label);\n",
              "      const progress = document.createElement('progress');\n",
              "      progress.max = size;\n",
              "      div.appendChild(progress);\n",
              "      document.body.appendChild(div);\n",
              "\n",
              "      const buffers = [];\n",
              "      let downloaded = 0;\n",
              "\n",
              "      const channel = await google.colab.kernel.comms.open(id);\n",
              "      // Send a message to notify the kernel that we're ready.\n",
              "      channel.send({})\n",
              "\n",
              "      for await (const message of channel.messages) {\n",
              "        // Send a message to notify the kernel that we're ready.\n",
              "        channel.send({})\n",
              "        if (message.buffers) {\n",
              "          for (const buffer of message.buffers) {\n",
              "            buffers.push(buffer);\n",
              "            downloaded += buffer.byteLength;\n",
              "            progress.value = downloaded;\n",
              "          }\n",
              "        }\n",
              "      }\n",
              "      const blob = new Blob(buffers, {type: 'application/binary'});\n",
              "      const a = document.createElement('a');\n",
              "      a.href = window.URL.createObjectURL(blob);\n",
              "      a.download = filename;\n",
              "      div.appendChild(a);\n",
              "      a.click();\n",
              "      div.remove();\n",
              "    }\n",
              "  "
            ]
          },
          "metadata": {}
        },
        {
          "output_type": "display_data",
          "data": {
            "text/plain": [
              "<IPython.core.display.Javascript object>"
            ],
            "application/javascript": [
              "download(\"download_26aba916-3629-40b5-a6cc-5026d609b4ad\", \"output123.xlsx\", 259034)"
            ]
          },
          "metadata": {}
        }
      ]
    },
    {
      "cell_type": "code",
      "source": [
        ""
      ],
      "metadata": {
        "id": "KyljIrnxbtRd"
      },
      "execution_count": null,
      "outputs": []
    },
    {
      "cell_type": "code",
      "source": [
        ""
      ],
      "metadata": {
        "id": "diJMUmDxHOPf"
      },
      "execution_count": null,
      "outputs": []
    }
  ]
}